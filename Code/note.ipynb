{
 "cells": [
  {
   "cell_type": "code",
   "execution_count": 1,
   "id": "aa3aadfa",
   "metadata": {},
   "outputs": [
    {
     "name": "stdout",
     "output_type": "stream",
     "text": [
      "Sô gấp đôi là 10\n"
     ]
    }
   ],
   "source": [
    "n = int(input(\"Nhập số:\"))\n",
    "print(\"Sô gấp đôi là\", n * 2)"
   ]
  },
  {
   "cell_type": "code",
   "execution_count": 4,
   "id": "0aa0d27f",
   "metadata": {},
   "outputs": [
    {
     "name": "stdout",
     "output_type": "stream",
     "text": [
      "Diện tích còn lại 30.74\n"
     ]
    }
   ],
   "source": [
    "a = float(input(\"Nhập chiều rộng a =\"))\n",
    "b = float(input(\"Nhập chiều dài b =\"))\n",
    "S = a * b\n",
    "r = a/2\n",
    "dien_tich_con_lai = S - 3.14 * r * r\n",
    "print(\"Diện tích còn lại\", round(dien_tich_con_lai, 2))"
   ]
  },
  {
   "cell_type": "code",
   "execution_count": null,
   "id": "a1ee6a09",
   "metadata": {},
   "outputs": [],
   "source": []
  },
  {
   "cell_type": "code",
   "execution_count": 1,
   "id": "c28894f9",
   "metadata": {},
   "outputs": [
    {
     "name": "stdout",
     "output_type": "stream",
     "text": [
      "t là kí tu alphabet\n"
     ]
    }
   ],
   "source": [
    "c = input('Nhập vào một kí tự: ')\n",
    "if len(c) == 1 and c.isalpha():\n",
    "    print(f\"{c} là kí tu alphabet\")\n",
    "else:\n",
    "    print(f\"{c} không phải là kí tự alphabet\")"
   ]
  },
  {
   "cell_type": "code",
   "execution_count": 2,
   "id": "cb26fe4b",
   "metadata": {},
   "outputs": [
    {
     "name": "stdout",
     "output_type": "stream",
     "text": [
      "Chữ thường tương ứng là: c\n"
     ]
    }
   ],
   "source": [
    "c = input('Nhập vào một kí tự: ')\n",
    "if len(c) == 1:\n",
    "    if c.islower():\n",
    "        print('Chữ hoa tương ứng là:', c.upper())\n",
    "    elif c.isupper():\n",
    "        print('Chữ thường tương ứng là:', c.lower())\n",
    "    else:\n",
    "        print('Kí tự không phải chữ cái!')\n",
    "else:\n",
    "    print('Vui lòng nhập đúng 1 kí tự!')"
   ]
  },
  {
   "cell_type": "code",
   "execution_count": 4,
   "id": "bc6adc4b",
   "metadata": {},
   "outputs": [
    {
     "name": "stdout",
     "output_type": "stream",
     "text": [
      "Không có chữ cái thường liền trước 'a'\n"
     ]
    }
   ],
   "source": [
    "ten = input('Nhập họ tên chủ hộ: ')\n",
    "chi_so_truoc = int(input('Nhập chỉ số điện kế tháng trước: '))\n",
    "chi_so_sau = int(input('Nhập chỉ số điện kế tháng này: '))\n",
    "san_luong = chi_so_sau - chi_so_truoc\n",
    "if san_luong < 0:\n",
    "    print('Chỉ số nhập không hợp lệ!')\n",
    "else:\n",
    "    bac = [50, 50, 100, 100, 100]\n",
    "    gia = [1984, 2050, 2380, 2998, 3350, 3460]\n",
    "    tien = 0\n",
    "    sl = san_luong\n",
    "    for i in range(6):\n",
    "        if i < 5:\n",
    "            if sl > bac[i]:\n",
    "                tien += bac[i] * gia[i]\n",
    "                sl -= bac[i]\n",
    "            else:\n",
    "                tien += sl * gia[i]\n",
    "                sl = 0\n",
    "                break\n",
    "        else:\n",
    "            tien += sl * gia[i]\n",
    "    print(f'Họ tên: {ten}')\n",
    "    print(f'Sản lượng điện tiêu thụ: {san_luong} kWh')\n",
    "    print(f'Tiền điện phải trả: {tien:,} đồng')"
   ]
  },
  {
   "cell_type": "code",
   "execution_count": 1,
   "id": "03950200",
   "metadata": {},
   "outputs": [
    {
     "name": "stdout",
     "output_type": "stream",
     "text": [
      "Diện tích tam giác là: 13.8\n"
     ]
    }
   ],
   "source": [
    "a = float(input(\"Nhập độ dài cạnh a\"))\n",
    "b = float(input(\"Nhập độ dài cạnh b\"))\n",
    "c = float(input(\"Nhập độ dài cạnh c\"))\n",
    "if a > 0 and b > 0 and c > 0 and a + b > c and a + c > b and b + c > a:\n",
    "    p = (a + b + c) / 2\n",
    "    S = (p * (p - a) * (p - b) * (p - c)) ** 0.5\n",
    "    print(\"Diện tích tam giác là:\", round(S, 1))\n",
    "else:\n",
    "    print(\"Ba cạnh không tạo thành tam giác!\")"
   ]
  },
  {
   "cell_type": "code",
   "execution_count": 22,
   "id": "79b3ab9c",
   "metadata": {},
   "outputs": [
    {
     "name": "stdout",
     "output_type": "stream",
     "text": [
      "Họ tên: kkk\n",
      "Sản lượng điện tiêu thụ: 219 kWh\n",
      "Tiền điện phải trả: 536395 đồng\n"
     ]
    }
   ],
   "source": [
    "ten = input('Nhập họ tên chủ hộ: ')\n",
    "chi_so_truoc = int(input('Nhập chỉ số điện kế tháng trước: '))\n",
    "chi_so_sau = int(input('Nhập chỉ số điện kế tháng này: '))\n",
    "san_luong = chi_so_sau - chi_so_truoc\n",
    "if san_luong < 0:\n",
    "    print('Chỉ số nhập không hợp lệ!')\n",
    "else:\n",
    "    bac = [50, 50, 100, 100, 100]\n",
    "    gia = [1984, 2050, 2380, 2998, 3350, 3460]\n",
    "    tien = 0\n",
    "    sl = san_luong\n",
    "    for i in range(6):\n",
    "        if i < 5:\n",
    "            if sl > bac[i]:\n",
    "                tien += bac[i] * gia[i]\n",
    "                sl -= bac[i]\n",
    "            else:\n",
    "                tien += sl * gia[i]\n",
    "                sl = 0\n",
    "                break\n",
    "        else:\n",
    "            tien += sl * gia[i]\n",
    "    Tong_tien = tien + tien * 0.08        \n",
    "    print(f'Họ tên: {ten}')\n",
    "    print(f'Sản lượng điện tiêu thụ: {san_luong} kWh')\n",
    "    print(f'Tiền điện phải trả: {round(Tong_tien)} đồng')"
   ]
  },
  {
   "cell_type": "code",
   "execution_count": 3,
   "id": "79aff60b",
   "metadata": {},
   "outputs": [
    {
     "name": "stdout",
     "output_type": "stream",
     "text": [
      "Chữ cái thứ 5 là: d\n",
      "Chữ cái thứ 9 là: m\n"
     ]
    }
   ],
   "source": [
    "s = input('Nhập vào một chuỗi kí tự thường (>=20 ký tự): ')\n",
    "if len(s) >= 20 and s.islower():\n",
    "    print('Chữ cái thứ 5 là:', s[4])\n",
    "    print('Chữ cái thứ 9 là:', s[8])\n",
    "else:\n",
    "    print('Chuỗi không hợp lệ!')"
   ]
  },
  {
   "cell_type": "code",
   "execution_count": 25,
   "id": "f2e05dec",
   "metadata": {},
   "outputs": [
    {
     "name": "stdout",
     "output_type": "stream",
     "text": [
      "Số 8 là số chẵn\n"
     ]
    }
   ],
   "source": [
    "a_int = input ('Nhập vào 1 số bất kỳ')\n",
    "if a_int.isdigit():\n",
    "    a_int = int(a_int)\n",
    "    if a_int % 2 == 0:\n",
    "        print(f'Số {a_int} là số chẵn')\n",
    "    else:\n",
    "        print(f'Số {a_int} là số lẻ')"
   ]
  },
  {
   "cell_type": "code",
   "execution_count": 34,
   "id": "41a09c4b",
   "metadata": {},
   "outputs": [
    {
     "name": "stdout",
     "output_type": "stream",
     "text": [
      "True\n"
     ]
    }
   ],
   "source": [
    "n_int = input('Nhập vào một số nguyên: ')\n",
    "if n_int.isdigit():\n",
    "    n_int = int(n_int)\n",
    "    if n_int % 10 == 5:\n",
    "        print('True')\n",
    "    else:\n",
    "        print('False')"
   ]
  },
  {
   "cell_type": "code",
   "execution_count": 40,
   "id": "af28154d",
   "metadata": {},
   "outputs": [
    {
     "name": "stdout",
     "output_type": "stream",
     "text": [
      "Bạn không đủ tuổi để đi bầu cử\n"
     ]
    }
   ],
   "source": [
    "tuoi = int(input(\"Nhập tuổi của bạn: \"))\n",
    "if tuoi < 18:\n",
    "    print(\"Bạn không đủ tuổi để đi bầu cử\")\n",
    "else:\n",
    "    print(\"Bạn đủ tuổi để đi bầu cử\")"
   ]
  },
  {
   "cell_type": "code",
   "execution_count": 18,
   "id": "17e5a759",
   "metadata": {},
   "outputs": [
    {
     "name": "stdout",
     "output_type": "stream",
     "text": [
      "True\n"
     ]
    }
   ],
   "source": [
    "n = int(input(\"Nhập vào một số nguyên: \"))\n",
    "if n % 3 == 0 and n % 5 == 0:\n",
    "    print(\"True\")\n",
    "else:\n",
    "    print(\"False\")\n",
    "    "
   ]
  },
  {
   "cell_type": "code",
   "execution_count": 16,
   "id": "7734e06b",
   "metadata": {},
   "outputs": [
    {
     "name": "stdout",
     "output_type": "stream",
     "text": [
      "7 nhỏ hơn 9\n"
     ]
    }
   ],
   "source": [
    "a = int(input(\"Nhập vào một số nguyên: \"))\n",
    "b = int(input(\"Nhập vào một số nguyên khác: \"))\n",
    "if a > b:\n",
    "    print(f\"{a} lớn hơn {b}\")   \n",
    "elif b > a:\n",
    "    print(f\"{a} nhỏ hơn {b}\")\n",
    "else:\n",
    "    print(f\"{a} bằng {b}\")            "
   ]
  },
  {
   "cell_type": "code",
   "execution_count": 21,
   "id": "dad3fe9f",
   "metadata": {},
   "outputs": [
    {
     "name": "stdout",
     "output_type": "stream",
     "text": [
      "n là ký tự khác \n"
     ]
    }
   ],
   "source": [
    "n = input(\"Nhập vào ký tự bất kỳ\")\n",
    "if n.isalpha():\n",
    "    print('n là chữ')\n",
    "elif n.isdigit():\n",
    "    print('n là số')\n",
    "else:\n",
    "    print('n là ký tự khác ')"
   ]
  },
  {
   "cell_type": "code",
   "execution_count": null,
   "id": "af039d6b",
   "metadata": {},
   "outputs": [
    {
     "name": "stdout",
     "output_type": "stream",
     "text": [
      "Học lực: Giỏi\n"
     ]
    }
   ],
   "source": [
    "diem = float(input(\"Nhập điểm (0 - 10): \"))\n",
    "\n",
    "print(\"Điểm không hợp lệ!\" if diem < 0 or diem > 10 else\n",
    "      \"Học lực: Giỏi\" if diem >= 8 else\n",
    "      \"Học lực: Khá\" if diem >= 6.5 else\n",
    "      \"Học lực: Trung bình\" if diem >= 5 else\n",
    "      \"Học lực: Yếu\")\n"
   ]
  },
  {
   "cell_type": "code",
   "execution_count": null,
   "id": "9a3d6de3",
   "metadata": {},
   "outputs": [],
   "source": [
    "Năm = int(input(\"Nhập năm: \"))\n",
    "if (Năm % 400) ==0 or (Năm % 4 == 0 and Năm % 100 != 0):\n",
    "    print(f\"{Năm} là năm nhuận\")\n",
    "else:\n",
    "    print(f\"{Năm} không phải là năm nhuận\")   "
   ]
  },
  {
   "cell_type": "code",
   "execution_count": 26,
   "id": "30673747",
   "metadata": {},
   "outputs": [
    {
     "name": "stdout",
     "output_type": "stream",
     "text": [
      "Bảy\n"
     ]
    }
   ],
   "source": [
    "\n",
    "n = int(input(\"Nhập số nguyên từ 0 đến 9: \"))\n",
    "match n:\n",
    "    case 0:\n",
    "        print(\"Không\")\n",
    "    case 1:\n",
    "        print(\"Một\")\n",
    "    case 2:\n",
    "        print(\"Hai\")\n",
    "    case 3:\n",
    "        print(\"Ba\")\n",
    "    case 4:\n",
    "        print(\"Bốn\")\n",
    "    case 5:\n",
    "        print(\"Năm\")\n",
    "    case 6:\n",
    "        print(\"Sáu\")\n",
    "    case 7:\n",
    "        print(\"Bảy\")\n",
    "    case 8:\n",
    "        print(\"Tám\")\n",
    "    case 9:\n",
    "        print(\"Chín\")\n",
    "    case _:\n",
    "        print(\"Ngoài phạm vi 0-9\")\n"
   ]
  },
  {
   "cell_type": "code",
   "execution_count": 28,
   "id": "e6eef7dd",
   "metadata": {},
   "outputs": [
    {
     "name": "stdout",
     "output_type": "stream",
     "text": [
      "Qua Môn\n"
     ]
    }
   ],
   "source": [
    "a = int(input(\"Nhập vào điểm thi: \"))\n",
    "if a>=4:\n",
    "    print(\"Qua Môn\")\n",
    "else:\n",
    "    print(\"Học lại\")"
   ]
  },
  {
   "cell_type": "code",
   "execution_count": 30,
   "id": "3f903482",
   "metadata": {},
   "outputs": [
    {
     "name": "stdout",
     "output_type": "stream",
     "text": [
      "Bạn chưa đủ 18 tuổi\n"
     ]
    }
   ],
   "source": [
    "n = int(input(\"Nhập vào năm sinh:\"))\n",
    "nam_hien_tại = 2025\n",
    "tuổi = nam_hien_tại - n\n",
    "if tuổi < 18:\n",
    "    print(\"Bạn chưa đủ 18 tuổi\")\n",
    "else:\n",
    "    print(\"Bạn đã đủ 18 tuổi\")"
   ]
  }
 ],
 "metadata": {
  "kernelspec": {
   "display_name": "Python 3",
   "language": "python",
   "name": "python3"
  },
  "language_info": {
   "codemirror_mode": {
    "name": "ipython",
    "version": 3
   },
   "file_extension": ".py",
   "mimetype": "text/x-python",
   "name": "python",
   "nbconvert_exporter": "python",
   "pygments_lexer": "ipython3",
   "version": "3.11.9"
  }
 },
 "nbformat": 4,
 "nbformat_minor": 5
}
